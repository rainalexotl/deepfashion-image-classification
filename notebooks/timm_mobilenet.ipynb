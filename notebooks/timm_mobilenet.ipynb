{
 "cells": [
  {
   "cell_type": "code",
   "execution_count": 1,
   "id": "21a47f96",
   "metadata": {},
   "outputs": [],
   "source": [
    "import sys\n",
    "import os\n",
    "\n",
    "sys.path.append(os.path.abspath('root/deepfashion-image-classification/src'))"
   ]
  },
  {
   "cell_type": "code",
   "execution_count": 2,
   "id": "cec9c985",
   "metadata": {},
   "outputs": [],
   "source": [
    "import timm\n",
    "import torch\n",
    "import torch.nn as nn\n",
    "import torchvision.transforms.v2 as T\n",
    "from torch.utils.data import DataLoader\n",
    "\n",
    "import yaml\n",
    "from tqdm import tqdm\n",
    "from PIL import Image\n",
    "from data.v2.dataset import get_dataloaders\n",
    "\n",
    "import random\n",
    "import numpy as np\n",
    "random.seed(42)\n",
    "np.random.seed(42)\n",
    "torch.manual_seed(42)\n",
    "\n",
    "import matplotlib.pyplot as plt\n",
    "import seaborn as sns\n",
    "sns.set_theme()"
   ]
  },
  {
   "cell_type": "markdown",
   "id": "85b7f8e0",
   "metadata": {},
   "source": [
    "# Load Model"
   ]
  },
  {
   "cell_type": "code",
   "execution_count": 3,
   "id": "2be8e42c",
   "metadata": {},
   "outputs": [],
   "source": [
    "model = timm.create_model('mobilenetv3_large_100.ra_in1k', pretrained=True, num_classes=20)"
   ]
  },
  {
   "cell_type": "code",
   "execution_count": 4,
   "id": "1d9634d0",
   "metadata": {},
   "outputs": [],
   "source": [
    "for param in model.parameters():\n",
    "    param.requires_grad = False\n",
    "\n",
    "for param in model.classifier.parameters():\n",
    "    param.requires_grad = True"
   ]
  },
  {
   "cell_type": "code",
   "execution_count": 5,
   "id": "20066867",
   "metadata": {},
   "outputs": [
    {
     "name": "stdout",
     "output_type": "stream",
     "text": [
      "classifier.weight\n",
      "classifier.bias\n"
     ]
    }
   ],
   "source": [
    "# for name, param in model.named_parameters():\n",
    "#     print(name, param.requires_grad)\n",
    "\n",
    "for name, param in model.named_parameters():\n",
    "    if param.requires_grad:\n",
    "        print(name)"
   ]
  },
  {
   "cell_type": "code",
   "execution_count": 6,
   "id": "20364f9d",
   "metadata": {},
   "outputs": [
    {
     "name": "stdout",
     "output_type": "stream",
     "text": [
      "blocks.5.0.conv_pw.weight\n",
      "blocks.5.0.bn1.weight\n",
      "blocks.5.0.bn1.bias\n",
      "blocks.5.0.conv_dw.weight\n",
      "blocks.5.0.bn2.weight\n",
      "blocks.5.0.bn2.bias\n",
      "blocks.5.0.se.conv_reduce.weight\n",
      "blocks.5.0.se.conv_reduce.bias\n",
      "blocks.5.0.se.conv_expand.weight\n",
      "blocks.5.0.se.conv_expand.bias\n",
      "blocks.5.0.conv_pwl.weight\n",
      "blocks.5.0.bn3.weight\n",
      "blocks.5.0.bn3.bias\n",
      "blocks.5.1.conv_pw.weight\n",
      "blocks.5.1.bn1.weight\n",
      "blocks.5.1.bn1.bias\n",
      "blocks.5.1.conv_dw.weight\n",
      "blocks.5.1.bn2.weight\n",
      "blocks.5.1.bn2.bias\n",
      "blocks.5.1.se.conv_reduce.weight\n",
      "blocks.5.1.se.conv_reduce.bias\n",
      "blocks.5.1.se.conv_expand.weight\n",
      "blocks.5.1.se.conv_expand.bias\n",
      "blocks.5.1.conv_pwl.weight\n",
      "blocks.5.1.bn3.weight\n",
      "blocks.5.1.bn3.bias\n",
      "blocks.5.2.conv_pw.weight\n",
      "blocks.5.2.bn1.weight\n",
      "blocks.5.2.bn1.bias\n",
      "blocks.5.2.conv_dw.weight\n",
      "blocks.5.2.bn2.weight\n",
      "blocks.5.2.bn2.bias\n",
      "blocks.5.2.se.conv_reduce.weight\n",
      "blocks.5.2.se.conv_reduce.bias\n",
      "blocks.5.2.se.conv_expand.weight\n",
      "blocks.5.2.se.conv_expand.bias\n",
      "blocks.5.2.conv_pwl.weight\n",
      "blocks.5.2.bn3.weight\n",
      "blocks.5.2.bn3.bias\n",
      "blocks.6.0.conv.weight\n",
      "blocks.6.0.bn1.weight\n",
      "blocks.6.0.bn1.bias\n",
      "classifier.weight\n",
      "classifier.bias\n"
     ]
    }
   ],
   "source": [
    "# unfreeze more layers\n",
    "for name, param in model.named_parameters():\n",
    "    if any(x in name for x in ['blocks.6', 'blocks.5']):\n",
    "        param.requires_grad = True\n",
    "\n",
    "for name, param in model.named_parameters():\n",
    "    if param.requires_grad:\n",
    "        print(name)"
   ]
  },
  {
   "cell_type": "markdown",
   "id": "8d63b5ba",
   "metadata": {},
   "source": [
    "# Load Data"
   ]
  },
  {
   "cell_type": "code",
   "execution_count": 7,
   "id": "6ebdfad2",
   "metadata": {},
   "outputs": [],
   "source": [
    "processor = model.default_cfg"
   ]
  },
  {
   "cell_type": "code",
   "execution_count": 8,
   "id": "826877b1",
   "metadata": {},
   "outputs": [],
   "source": [
    "with open('root/deepfashion-image-classification/configs/mobilenet.yaml') as f:\n",
    "    config = yaml.safe_load(f)\n",
    "train_loader, val_loader = get_dataloaders(config, processor, train=True)"
   ]
  },
  {
   "cell_type": "markdown",
   "id": "091b7c0c",
   "metadata": {},
   "source": [
    "# Train"
   ]
  },
  {
   "cell_type": "code",
   "execution_count": 9,
   "id": "9c68aaac",
   "metadata": {},
   "outputs": [
    {
     "data": {
      "text/plain": [
       "0.0001"
      ]
     },
     "execution_count": 9,
     "metadata": {},
     "output_type": "execute_result"
    }
   ],
   "source": [
    "config['train']['learning_rate']"
   ]
  },
  {
   "cell_type": "code",
   "execution_count": 10,
   "id": "a4e1f03a",
   "metadata": {},
   "outputs": [],
   "source": [
    "epochs = config['train']['epochs']\n",
    "criterion = nn.CrossEntropyLoss(label_smoothing=0.1)\n",
    "# optimizer = torch.optim.AdamW(model.classifier.parameters(), lr=config['train']['learning_rate'], weight_decay=config['train']['weight_decay'])\n",
    "optimizer = torch.optim.AdamW([\n",
    "    {\"params\": model.classifier.parameters(), \"lr\": 1e-4},\n",
    "    {\"params\": [p for n, p in model.named_parameters() if p.requires_grad and 'classifier' not in n], \"lr\": 3e-5}\n",
    "], weight_decay=1e-4)\n",
    "\n",
    "scheduler = torch.optim.lr_scheduler.CosineAnnealingWarmRestarts(optimizer, T_0=10, T_mult=2, eta_min=1e-6)"
   ]
  },
  {
   "cell_type": "code",
   "execution_count": 11,
   "id": "8949da77",
   "metadata": {},
   "outputs": [
    {
     "name": "stderr",
     "output_type": "stream",
     "text": [
      "Training Epoch 0:   0%|          | 0/625 [00:00<?, ?it/s]"
     ]
    },
    {
     "name": "stderr",
     "output_type": "stream",
     "text": [
      "                                                                     \r"
     ]
    },
    {
     "name": "stdout",
     "output_type": "stream",
     "text": [
      "Epoch  0 Train loss: 3.188890 Val loss: 2.893338 Val acc: 0.1699 LR: [0.0001, 3e-05]\n"
     ]
    },
    {
     "name": "stderr",
     "output_type": "stream",
     "text": [
      "                                                                     \r"
     ]
    },
    {
     "name": "stdout",
     "output_type": "stream",
     "text": [
      "Epoch  1 Train loss: 2.487471 Val loss: 2.522882 Val acc: 0.2731 LR: [9.757729755661011e-05, 2.929031948627973e-05]\n"
     ]
    },
    {
     "name": "stderr",
     "output_type": "stream",
     "text": [
      "                                                                     \r"
     ]
    },
    {
     "name": "stdout",
     "output_type": "stream",
     "text": [
      "Epoch  2 Train loss: 2.158020 Val loss: 2.359806 Val acc: 0.3275 LR: [9.05463412215599e-05, 2.7230746418436738e-05]\n"
     ]
    },
    {
     "name": "stderr",
     "output_type": "stream",
     "text": [
      "                                                                     \r"
     ]
    },
    {
     "name": "stdout",
     "output_type": "stream",
     "text": [
      "Epoch  3 Train loss: 2.001879 Val loss: 2.247545 Val acc: 0.3720 LR: [7.959536998847742e-05, 2.402288615824086e-05]\n"
     ]
    },
    {
     "name": "stderr",
     "output_type": "stream",
     "text": [
      "                                                                     \r"
     ]
    },
    {
     "name": "stdout",
     "output_type": "stream",
     "text": [
      "Epoch  4 Train loss: 1.892978 Val loss: 2.214980 Val acc: 0.3876 LR: [6.57963412215599e-05, 1.9980746418436738e-05]\n"
     ]
    },
    {
     "name": "stderr",
     "output_type": "stream",
     "text": [
      "                                                                     \r"
     ]
    },
    {
     "name": "stdout",
     "output_type": "stream",
     "text": [
      "Epoch  5 Train loss: 1.820852 Val loss: 2.189551 Val acc: 0.3990 LR: [5.05e-05, 1.55e-05]\n"
     ]
    },
    {
     "name": "stderr",
     "output_type": "stream",
     "text": [
      "                                                                     \r"
     ]
    },
    {
     "name": "stdout",
     "output_type": "stream",
     "text": [
      "Epoch  6 Train loss: 1.785806 Val loss: 2.150341 Val acc: 0.4202 LR: [3.5203658778440106e-05, 1.1019253581563265e-05]\n"
     ]
    },
    {
     "name": "stderr",
     "output_type": "stream",
     "text": [
      "                                                                     \r"
     ]
    },
    {
     "name": "stdout",
     "output_type": "stream",
     "text": [
      "Epoch  7 Train loss: 1.748193 Val loss: 2.128470 Val acc: 0.4233 LR: [2.1404630011522586e-05, 6.977113841759141e-06]\n"
     ]
    },
    {
     "name": "stderr",
     "output_type": "stream",
     "text": [
      "                                                                     \r"
     ]
    },
    {
     "name": "stdout",
     "output_type": "stream",
     "text": [
      "Epoch  8 Train loss: 1.734621 Val loss: 2.116103 Val acc: 0.4285 LR: [1.0453658778440109e-05, 3.769253581563264e-06]\n"
     ]
    },
    {
     "name": "stderr",
     "output_type": "stream",
     "text": [
      "                                                                     \r"
     ]
    },
    {
     "name": "stdout",
     "output_type": "stream",
     "text": [
      "Epoch  9 Train loss: 1.729651 Val loss: 2.116397 Val acc: 0.4295 LR: [3.4227024433899e-06, 1.7096805137202739e-06]\n"
     ]
    },
    {
     "name": "stderr",
     "output_type": "stream",
     "text": [
      "                                                                      \r"
     ]
    },
    {
     "name": "stdout",
     "output_type": "stream",
     "text": [
      "Epoch 10 Train loss: 1.679767 Val loss: 2.068814 Val acc: 0.4523 LR: [0.0001, 3e-05]\n"
     ]
    },
    {
     "name": "stderr",
     "output_type": "stream",
     "text": [
      "                                                                      \r"
     ]
    },
    {
     "name": "stdout",
     "output_type": "stream",
     "text": [
      "Epoch 11 Train loss: 1.635126 Val loss: 2.054631 Val acc: 0.4503 LR: [9.939057285945933e-05, 2.98214809386295e-05]\n"
     ]
    },
    {
     "name": "stderr",
     "output_type": "stream",
     "text": [
      "                                                                      \r"
     ]
    },
    {
     "name": "stdout",
     "output_type": "stream",
     "text": [
      "Epoch 12 Train loss: 1.572289 Val loss: 2.027697 Val acc: 0.4684 LR: [9.757729755661011e-05, 2.929031948627973e-05]\n"
     ]
    },
    {
     "name": "stderr",
     "output_type": "stream",
     "text": [
      "                                                                      \r"
     ]
    },
    {
     "name": "stdout",
     "output_type": "stream",
     "text": [
      "Epoch 13 Train loss: 1.523933 Val loss: 1.998274 Val acc: 0.4751 LR: [9.460482294732421e-05, 2.8419594600731333e-05]\n"
     ]
    },
    {
     "name": "stderr",
     "output_type": "stream",
     "text": [
      "                                                                      \r"
     ]
    },
    {
     "name": "stdout",
     "output_type": "stream",
     "text": [
      "Epoch 14 Train loss: 1.485912 Val loss: 2.009000 Val acc: 0.4705 LR: [9.05463412215599e-05, 2.7230746418436738e-05]\n"
     ]
    },
    {
     "name": "stderr",
     "output_type": "stream",
     "text": [
      "                                                                      \r"
     ]
    },
    {
     "name": "stdout",
     "output_type": "stream",
     "text": [
      "Epoch 15 Train loss: 1.450551 Val loss: 2.017660 Val acc: 0.4710 LR: [8.55017856687341e-05, 2.5753048327204938e-05]\n"
     ]
    },
    {
     "name": "stderr",
     "output_type": "stream",
     "text": [
      "                                                                      \r"
     ]
    },
    {
     "name": "stdout",
     "output_type": "stream",
     "text": [
      "Epoch 16 Train loss: 1.405134 Val loss: 1.999801 Val acc: 0.4710 LR: [7.959536998847742e-05, 2.402288615824086e-05]\n"
     ]
    },
    {
     "name": "stderr",
     "output_type": "stream",
     "text": [
      "                                                                      \r"
     ]
    },
    {
     "name": "stdout",
     "output_type": "stream",
     "text": [
      "Epoch 17 Train loss: 1.374758 Val loss: 1.953982 Val acc: 0.4933 LR: [7.297252973710757e-05, 2.208286224622343e-05]\n"
     ]
    },
    {
     "name": "stderr",
     "output_type": "stream",
     "text": [
      "                                                                      \r"
     ]
    },
    {
     "name": "stdout",
     "output_type": "stream",
     "text": [
      "Epoch 18 Train loss: 1.358341 Val loss: 2.005145 Val acc: 0.4756 LR: [6.57963412215599e-05, 1.9980746418436738e-05]\n"
     ]
    },
    {
     "name": "stderr",
     "output_type": "stream",
     "text": [
      "                                                                      "
     ]
    },
    {
     "name": "stdout",
     "output_type": "stream",
     "text": [
      "Epoch 19 Train loss: 1.326143 Val loss: 1.950520 Val acc: 0.5041 LR: [5.8243506019491436e-05, 1.776829974308335e-05]\n"
     ]
    },
    {
     "name": "stderr",
     "output_type": "stream",
     "text": [
      "\r"
     ]
    }
   ],
   "source": [
    "device = 'cuda' if torch.cuda.is_available() else 'cpu'\n",
    "model.to(device)\n",
    "\n",
    "train_losses = []\n",
    "val_losses = []\n",
    "\n",
    "for e in range(epochs):\n",
    "    train_epoch_loss = 0\n",
    "    val_epoch_loss = 0\n",
    "\n",
    "    for X_train, y_train in tqdm(train_loader, desc=f'Training Epoch {e}', leave=False):\n",
    "        X_train, y_train = X_train.to(device), y_train.to(device)\n",
    "        train_preds = model(X_train)\n",
    "        loss_train = criterion(train_preds, y_train)\n",
    "        train_epoch_loss += loss_train.item()\n",
    "\n",
    "        optimizer.zero_grad()\n",
    "        loss_train.backward()\n",
    "        optimizer.step()\n",
    "\n",
    "    correct = 0\n",
    "    total = 0\n",
    "    with torch.no_grad():\n",
    "        for X_val, y_val in tqdm(val_loader, desc=f'Validating Epoch {e}', leave=False):\n",
    "            X_val, y_val = X_val.to(device), y_val.to(device)\n",
    "            val_preds = model(X_val)\n",
    "            loss_val = criterion(val_preds, y_val)\n",
    "            val_epoch_loss += loss_val.item()\n",
    "\n",
    "            _, preds = torch.max(val_preds, 1)\n",
    "            correct += (preds == y_val).sum().item()\n",
    "            total += y_val.size(0)\n",
    "\n",
    "    train_epoch_loss /= len(train_loader)\n",
    "    val_epoch_loss /= len(val_loader)\n",
    "    train_losses.append(train_epoch_loss)\n",
    "    val_losses.append(val_epoch_loss)\n",
    "\n",
    "    print(f\"Epoch {e:2} Train loss: {train_epoch_loss:8.6f} Val loss: {val_epoch_loss:8.6f} Val acc: {correct / total:.4f} LR: {scheduler.get_last_lr()}\")\n",
    "    # scheduler.step(val_epoch_loss)\n",
    "    #  LR: {scheduler.get_last_lr()}\n",
    "    scheduler.step()"
   ]
  },
  {
   "cell_type": "code",
   "execution_count": 13,
   "id": "f49f8912",
   "metadata": {},
   "outputs": [
    {
     "data": {
      "text/plain": [
       "<Axes: >"
      ]
     },
     "execution_count": 13,
     "metadata": {},
     "output_type": "execute_result"
    },
    {
     "data": {
      "image/png": "[encoded data removed]",
      "text/plain": [
       "<Figure size 640x480 with 1 Axes>"
      ]
     },
     "metadata": {},
     "output_type": "display_data"
    }
   ],
   "source": [
    "sns.lineplot(train_losses)\n",
    "sns.lineplot(val_losses)"
   ]
  },
  {
   "cell_type": "code",
   "execution_count": null,
   "id": "707a65af",
   "metadata": {},
   "outputs": [],
   "source": []
  }
 ],
 "metadata": {
  "kernelspec": {
   "display_name": "Python3 (ipykernel)",
   "language": "python",
   "name": "python3"
  },
  "language_info": {
   "codemirror_mode": {
    "name": "ipython",
    "version": 3
   },
   "file_extension": ".py",
   "mimetype": "text/x-python",
   "name": "python",
   "nbconvert_exporter": "python",
   "pygments_lexer": "ipython3",
   "version": "3.10.12"
  }
 },
 "nbformat": 4,
 "nbformat_minor": 5
}
